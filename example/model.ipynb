{
 "cells": [
  {
   "cell_type": "code",
   "execution_count": 1,
   "metadata": {},
   "outputs": [],
   "source": [
    "import sys\n",
    "sys.path.append('../src')\n",
    "\n",
    "from utilsbox.download.hugging_face.api_download import download_from_huggingface\n",
    "from utilsbox.logger.logging import init_logger\n",
    "\n",
    "init_logger(\"model.log\")"
   ]
  },
  {
   "cell_type": "code",
   "execution_count": 2,
   "metadata": {},
   "outputs": [],
   "source": [
    "from utilsbox.random import seed_every_thing\n",
    "seed_every_thing(3)"
   ]
  },
  {
   "cell_type": "code",
   "execution_count": 3,
   "metadata": {},
   "outputs": [],
   "source": [
    "import torchvision\n",
    "from torch import nn, Tensor\n",
    "\n",
    "from utilsbox.models import register_model\n",
    "from utilsbox.models.classifiers import BaseImageClassifier, BaseImageClassifierOutput\n",
    "from diffusers.configuration_utils import register_to_config\n",
    "\n",
    "@register_model\n",
    "class VGG16_64(BaseImageClassifier):\n",
    "\n",
    "    ignore_for_config = ['pretrained_weights']\n",
    "\n",
    "    @register_to_config\n",
    "    def __init__(self, num_classes, pretrained_weights=None):\n",
    "        self.feat_dim = 512 * 2 * 2\n",
    "        super(VGG16_64, self).__init__(64, num_classes, feature_dim=self.feat_dim)\n",
    "        model = torchvision.models.vgg16_bn(weights=pretrained_weights)\n",
    "        self.feature = model.features\n",
    "\n",
    "        self.bn = nn.BatchNorm1d(self.feat_dim)\n",
    "        self.bn.bias.requires_grad_(False)  # no shift\n",
    "        self.fc_layer = nn.Linear(self.feat_dim, self.num_classes)\n",
    "\n",
    "    def forward(self, x: Tensor, *args, **kwargs):\n",
    "        feature = self.feature(x)\n",
    "        feature = feature.view(feature.size(0), -1)\n",
    "        feature = self.bn(feature)\n",
    "        prediction = self.fc_layer(feature)\n",
    "\n",
    "        return BaseImageClassifierOutput(prediction=prediction, feature=feature)"
   ]
  },
  {
   "cell_type": "code",
   "execution_count": 4,
   "metadata": {},
   "outputs": [],
   "source": [
    "model = VGG16_64(num_classes=127, pretrained_weights='DEFAULT')\n",
    "model.save_pretrained('./test')"
   ]
  },
  {
   "cell_type": "code",
   "execution_count": 5,
   "metadata": {},
   "outputs": [
    {
     "data": {
      "text/plain": [
       "__main__.VGG16_64"
      ]
     },
     "execution_count": 5,
     "metadata": {},
     "output_type": "execute_result"
    }
   ],
   "source": [
    "from utilsbox.models import auto_model_from_pretrained\n",
    "model_new = auto_model_from_pretrained('./test')\n",
    "type(model_new)"
   ]
  }
 ],
 "metadata": {
  "kernelspec": {
   "display_name": "MIA",
   "language": "python",
   "name": "python3"
  },
  "language_info": {
   "codemirror_mode": {
    "name": "ipython",
    "version": 3
   },
   "file_extension": ".py",
   "mimetype": "text/x-python",
   "name": "python",
   "nbconvert_exporter": "python",
   "pygments_lexer": "ipython3",
   "version": "3.1.-1"
  }
 },
 "nbformat": 4,
 "nbformat_minor": 2
}
